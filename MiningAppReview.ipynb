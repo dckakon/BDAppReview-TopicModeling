{
  "cells": [
    {
      "cell_type": "code",
      "execution_count": null,
      "metadata": {
        "id": "LIcmTecakbUO",
        "colab": {
          "base_uri": "https://localhost:8080/",
          "height": 665
        },
        "outputId": "432b1026-0c90-4a44-c418-b607c64a4ea2"
      },
      "outputs": [
        {
          "output_type": "stream",
          "name": "stdout",
          "text": [
            "Collecting gensim\n",
            "  Downloading gensim-4.3.3-cp311-cp311-manylinux_2_17_x86_64.manylinux2014_x86_64.whl.metadata (8.1 kB)\n",
            "Collecting numpy<2.0,>=1.18.5 (from gensim)\n",
            "  Downloading numpy-1.26.4-cp311-cp311-manylinux_2_17_x86_64.manylinux2014_x86_64.whl.metadata (61 kB)\n",
            "\u001b[2K     \u001b[90m━━━━━━━━━━━━━━━━━━━━━━━━━━━━━━━━━━━━━━━━\u001b[0m \u001b[32m61.0/61.0 kB\u001b[0m \u001b[31m3.6 MB/s\u001b[0m eta \u001b[36m0:00:00\u001b[0m\n",
            "\u001b[?25hCollecting scipy<1.14.0,>=1.7.0 (from gensim)\n",
            "  Downloading scipy-1.13.1-cp311-cp311-manylinux_2_17_x86_64.manylinux2014_x86_64.whl.metadata (60 kB)\n",
            "\u001b[2K     \u001b[90m━━━━━━━━━━━━━━━━━━━━━━━━━━━━━━━━━━━━━━━━\u001b[0m \u001b[32m60.6/60.6 kB\u001b[0m \u001b[31m3.7 MB/s\u001b[0m eta \u001b[36m0:00:00\u001b[0m\n",
            "\u001b[?25hRequirement already satisfied: smart-open>=1.8.1 in /usr/local/lib/python3.11/dist-packages (from gensim) (7.1.0)\n",
            "Requirement already satisfied: wrapt in /usr/local/lib/python3.11/dist-packages (from smart-open>=1.8.1->gensim) (1.17.2)\n",
            "Downloading gensim-4.3.3-cp311-cp311-manylinux_2_17_x86_64.manylinux2014_x86_64.whl (26.7 MB)\n",
            "\u001b[2K   \u001b[90m━━━━━━━━━━━━━━━━━━━━━━━━━━━━━━━━━━━━━━━━\u001b[0m \u001b[32m26.7/26.7 MB\u001b[0m \u001b[31m64.9 MB/s\u001b[0m eta \u001b[36m0:00:00\u001b[0m\n",
            "\u001b[?25hDownloading numpy-1.26.4-cp311-cp311-manylinux_2_17_x86_64.manylinux2014_x86_64.whl (18.3 MB)\n",
            "\u001b[2K   \u001b[90m━━━━━━━━━━━━━━━━━━━━━━━━━━━━━━━━━━━━━━━━\u001b[0m \u001b[32m18.3/18.3 MB\u001b[0m \u001b[31m90.3 MB/s\u001b[0m eta \u001b[36m0:00:00\u001b[0m\n",
            "\u001b[?25hDownloading scipy-1.13.1-cp311-cp311-manylinux_2_17_x86_64.manylinux2014_x86_64.whl (38.6 MB)\n",
            "\u001b[2K   \u001b[90m━━━━━━━━━━━━━━━━━━━━━━━━━━━━━━━━━━━━━━━━\u001b[0m \u001b[32m38.6/38.6 MB\u001b[0m \u001b[31m17.4 MB/s\u001b[0m eta \u001b[36m0:00:00\u001b[0m\n",
            "\u001b[?25hInstalling collected packages: numpy, scipy, gensim\n",
            "  Attempting uninstall: numpy\n",
            "    Found existing installation: numpy 2.0.2\n",
            "    Uninstalling numpy-2.0.2:\n",
            "      Successfully uninstalled numpy-2.0.2\n",
            "  Attempting uninstall: scipy\n",
            "    Found existing installation: scipy 1.15.3\n",
            "    Uninstalling scipy-1.15.3:\n",
            "      Successfully uninstalled scipy-1.15.3\n",
            "\u001b[31mERROR: pip's dependency resolver does not currently take into account all the packages that are installed. This behaviour is the source of the following dependency conflicts.\n",
            "thinc 8.3.6 requires numpy<3.0.0,>=2.0.0, but you have numpy 1.26.4 which is incompatible.\n",
            "tsfresh 0.21.0 requires scipy>=1.14.0; python_version >= \"3.10\", but you have scipy 1.13.1 which is incompatible.\u001b[0m\u001b[31m\n",
            "\u001b[0mSuccessfully installed gensim-4.3.3 numpy-1.26.4 scipy-1.13.1\n"
          ]
        },
        {
          "output_type": "display_data",
          "data": {
            "application/vnd.colab-display-data+json": {
              "pip_warning": {
                "packages": [
                  "numpy",
                  "scipy"
                ]
              },
              "id": "6c0d603cd987446b87a3ad7ae4123f85"
            }
          },
          "metadata": {}
        }
      ],
      "source": [
        "#!pip install -q google_play_scraper\n",
        "!pip install -q plotly-express\n",
        "!pip install gensim"
      ]
    },
    {
      "cell_type": "code",
      "execution_count": null,
      "metadata": {
        "id": "7AKhu1ZplBab"
      },
      "outputs": [],
      "source": [
        "import pandas as pd\n",
        "import numpy as np\n",
        "import regex as re\n",
        "#from google_play_scraper import app, Sort, reviews_all\n",
        "import plotly.express as px\n",
        "import seaborn as sns\n",
        "import matplotlib.pyplot as plt\n",
        "#from gensim import corpora\n",
        "#from gensim.models import LdaModel\n",
        "from nltk.tokenize import word_tokenize\n",
        "from nltk.corpus import stopwords\n",
        "from nltk.stem import WordNetLemmatizer\n",
        "import string\n",
        "import nltk"
      ]
    },
    {
      "cell_type": "code",
      "execution_count": null,
      "metadata": {
        "id": "nip7ddMAlXuW"
      },
      "outputs": [],
      "source": [
        "daraz_app = reviews_all('com.daraz.android',sleep_milliseconds=0,lang='en',  country='BD', sort=Sort.NEWEST) #Sort.MOST_RELEVANT  country='US',"
      ]
    },
    {
      "cell_type": "code",
      "execution_count": null,
      "metadata": {
        "id": "tMvc9tqWmxXM"
      },
      "outputs": [],
      "source": [
        "daraz_df=pd.json_normalize(daraz_app)"
      ]
    },
    {
      "cell_type": "code",
      "execution_count": null,
      "metadata": {
        "colab": {
          "base_uri": "https://localhost:8080/",
          "height": 521
        },
        "id": "_BdfjFGvnCDY",
        "outputId": "94b186fe-a75b-489a-c5ab-3fced4bf4014"
      },
      "outputs": [
        {
          "data": {
            "text/html": [
              "\n",
              "  <div id=\"df-b0c0bc37-bb5c-4264-b433-97f41ecfc8ac\" class=\"colab-df-container\">\n",
              "    <div>\n",
              "<style scoped>\n",
              "    .dataframe tbody tr th:only-of-type {\n",
              "        vertical-align: middle;\n",
              "    }\n",
              "\n",
              "    .dataframe tbody tr th {\n",
              "        vertical-align: top;\n",
              "    }\n",
              "\n",
              "    .dataframe thead th {\n",
              "        text-align: right;\n",
              "    }\n",
              "</style>\n",
              "<table border=\"1\" class=\"dataframe\">\n",
              "  <thead>\n",
              "    <tr style=\"text-align: right;\">\n",
              "      <th></th>\n",
              "      <th>reviewId</th>\n",
              "      <th>userName</th>\n",
              "      <th>userImage</th>\n",
              "      <th>content</th>\n",
              "      <th>score</th>\n",
              "      <th>thumbsUpCount</th>\n",
              "      <th>reviewCreatedVersion</th>\n",
              "      <th>at</th>\n",
              "      <th>replyContent</th>\n",
              "      <th>repliedAt</th>\n",
              "      <th>appVersion</th>\n",
              "      <th>appName</th>\n",
              "    </tr>\n",
              "  </thead>\n",
              "  <tbody>\n",
              "    <tr>\n",
              "      <th>0</th>\n",
              "      <td>83304c81-5db7-45c9-88c7-47c215458614</td>\n",
              "      <td>Provat Kumar Subir</td>\n",
              "      <td>https://play-lh.googleusercontent.com/a/ACg8oc...</td>\n",
              "      <td>baja app</td>\n",
              "      <td>1</td>\n",
              "      <td>0</td>\n",
              "      <td>10.0.0</td>\n",
              "      <td>2023-11-05 06:05:42</td>\n",
              "      <td>None</td>\n",
              "      <td>NaT</td>\n",
              "      <td>10.0.0</td>\n",
              "      <td>Pathao</td>\n",
              "    </tr>\n",
              "    <tr>\n",
              "      <th>1</th>\n",
              "      <td>d4e5113e-595b-446c-8055-ee42ac4245cc</td>\n",
              "      <td>afzal shuvo</td>\n",
              "      <td>https://play-lh.googleusercontent.com/a/ACg8oc...</td>\n",
              "      <td>Good app</td>\n",
              "      <td>5</td>\n",
              "      <td>0</td>\n",
              "      <td>10.0.0</td>\n",
              "      <td>2023-11-04 20:06:15</td>\n",
              "      <td>Hello afzal shuvo, we are pleased to know that...</td>\n",
              "      <td>2023-11-05 03:33:12</td>\n",
              "      <td>10.0.0</td>\n",
              "      <td>Pathao</td>\n",
              "    </tr>\n",
              "    <tr>\n",
              "      <th>2</th>\n",
              "      <td>9e8e8114-ad86-458b-be32-7c45c5392c21</td>\n",
              "      <td>Yousuf Ahmed</td>\n",
              "      <td>https://play-lh.googleusercontent.com/a-/ALV-U...</td>\n",
              "      <td>Good</td>\n",
              "      <td>5</td>\n",
              "      <td>0</td>\n",
              "      <td>10.0.0</td>\n",
              "      <td>2023-11-04 17:58:02</td>\n",
              "      <td>Hello Yousuf Ahmed, we are pleased to know tha...</td>\n",
              "      <td>2023-11-05 03:32:08</td>\n",
              "      <td>10.0.0</td>\n",
              "      <td>Pathao</td>\n",
              "    </tr>\n",
              "    <tr>\n",
              "      <th>3</th>\n",
              "      <td>4f8c425b-abee-4498-983b-cf6e5886525e</td>\n",
              "      <td>Israth Jahan</td>\n",
              "      <td>https://play-lh.googleusercontent.com/a-/ALV-U...</td>\n",
              "      <td>Nowadays it’s became a total disaster. The rid...</td>\n",
              "      <td>1</td>\n",
              "      <td>0</td>\n",
              "      <td>10.0.0</td>\n",
              "      <td>2023-11-04 15:45:09</td>\n",
              "      <td>Hello Israth Jahan, we are sorry for any diffi...</td>\n",
              "      <td>2023-11-05 03:31:28</td>\n",
              "      <td>10.0.0</td>\n",
              "      <td>Pathao</td>\n",
              "    </tr>\n",
              "    <tr>\n",
              "      <th>4</th>\n",
              "      <td>2731d2fd-91da-463c-b530-303de97094b4</td>\n",
              "      <td>406_Tanvir_Tareq_piash</td>\n",
              "      <td>https://play-lh.googleusercontent.com/a-/ALV-U...</td>\n",
              "      <td>Great</td>\n",
              "      <td>5</td>\n",
              "      <td>0</td>\n",
              "      <td>10.0.0</td>\n",
              "      <td>2023-11-04 13:04:29</td>\n",
              "      <td>Hello Tanvir_Tareq_piash, we are pleased to kn...</td>\n",
              "      <td>2023-11-04 13:43:03</td>\n",
              "      <td>10.0.0</td>\n",
              "      <td>Pathao</td>\n",
              "    </tr>\n",
              "  </tbody>\n",
              "</table>\n",
              "</div>\n",
              "    <div class=\"colab-df-buttons\">\n",
              "\n",
              "  <div class=\"colab-df-container\">\n",
              "    <button class=\"colab-df-convert\" onclick=\"convertToInteractive('df-b0c0bc37-bb5c-4264-b433-97f41ecfc8ac')\"\n",
              "            title=\"Convert this dataframe to an interactive table.\"\n",
              "            style=\"display:none;\">\n",
              "\n",
              "  <svg xmlns=\"http://www.w3.org/2000/svg\" height=\"24px\" viewBox=\"0 -960 960 960\">\n",
              "    <path d=\"M120-120v-720h720v720H120Zm60-500h600v-160H180v160Zm220 220h160v-160H400v160Zm0 220h160v-160H400v160ZM180-400h160v-160H180v160Zm440 0h160v-160H620v160ZM180-180h160v-160H180v160Zm440 0h160v-160H620v160Z\"/>\n",
              "  </svg>\n",
              "    </button>\n",
              "\n",
              "  <style>\n",
              "    .colab-df-container {\n",
              "      display:flex;\n",
              "      gap: 12px;\n",
              "    }\n",
              "\n",
              "    .colab-df-convert {\n",
              "      background-color: #E8F0FE;\n",
              "      border: none;\n",
              "      border-radius: 50%;\n",
              "      cursor: pointer;\n",
              "      display: none;\n",
              "      fill: #1967D2;\n",
              "      height: 32px;\n",
              "      padding: 0 0 0 0;\n",
              "      width: 32px;\n",
              "    }\n",
              "\n",
              "    .colab-df-convert:hover {\n",
              "      background-color: #E2EBFA;\n",
              "      box-shadow: 0px 1px 2px rgba(60, 64, 67, 0.3), 0px 1px 3px 1px rgba(60, 64, 67, 0.15);\n",
              "      fill: #174EA6;\n",
              "    }\n",
              "\n",
              "    .colab-df-buttons div {\n",
              "      margin-bottom: 4px;\n",
              "    }\n",
              "\n",
              "    [theme=dark] .colab-df-convert {\n",
              "      background-color: #3B4455;\n",
              "      fill: #D2E3FC;\n",
              "    }\n",
              "\n",
              "    [theme=dark] .colab-df-convert:hover {\n",
              "      background-color: #434B5C;\n",
              "      box-shadow: 0px 1px 3px 1px rgba(0, 0, 0, 0.15);\n",
              "      filter: drop-shadow(0px 1px 2px rgba(0, 0, 0, 0.3));\n",
              "      fill: #FFFFFF;\n",
              "    }\n",
              "  </style>\n",
              "\n",
              "    <script>\n",
              "      const buttonEl =\n",
              "        document.querySelector('#df-b0c0bc37-bb5c-4264-b433-97f41ecfc8ac button.colab-df-convert');\n",
              "      buttonEl.style.display =\n",
              "        google.colab.kernel.accessAllowed ? 'block' : 'none';\n",
              "\n",
              "      async function convertToInteractive(key) {\n",
              "        const element = document.querySelector('#df-b0c0bc37-bb5c-4264-b433-97f41ecfc8ac');\n",
              "        const dataTable =\n",
              "          await google.colab.kernel.invokeFunction('convertToInteractive',\n",
              "                                                    [key], {});\n",
              "        if (!dataTable) return;\n",
              "\n",
              "        const docLinkHtml = 'Like what you see? Visit the ' +\n",
              "          '<a target=\"_blank\" href=https://colab.research.google.com/notebooks/data_table.ipynb>data table notebook</a>'\n",
              "          + ' to learn more about interactive tables.';\n",
              "        element.innerHTML = '';\n",
              "        dataTable['output_type'] = 'display_data';\n",
              "        await google.colab.output.renderOutput(dataTable, element);\n",
              "        const docLink = document.createElement('div');\n",
              "        docLink.innerHTML = docLinkHtml;\n",
              "        element.appendChild(docLink);\n",
              "      }\n",
              "    </script>\n",
              "  </div>\n",
              "\n",
              "\n",
              "<div id=\"df-8297f5a6-66d9-4508-aca7-0485e45f38ac\">\n",
              "  <button class=\"colab-df-quickchart\" onclick=\"quickchart('df-8297f5a6-66d9-4508-aca7-0485e45f38ac')\"\n",
              "            title=\"Suggest charts.\"\n",
              "            style=\"display:none;\">\n",
              "\n",
              "<svg xmlns=\"http://www.w3.org/2000/svg\" height=\"24px\"viewBox=\"0 0 24 24\"\n",
              "     width=\"24px\">\n",
              "    <g>\n",
              "        <path d=\"M19 3H5c-1.1 0-2 .9-2 2v14c0 1.1.9 2 2 2h14c1.1 0 2-.9 2-2V5c0-1.1-.9-2-2-2zM9 17H7v-7h2v7zm4 0h-2V7h2v10zm4 0h-2v-4h2v4z\"/>\n",
              "    </g>\n",
              "</svg>\n",
              "  </button>\n",
              "\n",
              "<style>\n",
              "  .colab-df-quickchart {\n",
              "      --bg-color: #E8F0FE;\n",
              "      --fill-color: #1967D2;\n",
              "      --hover-bg-color: #E2EBFA;\n",
              "      --hover-fill-color: #174EA6;\n",
              "      --disabled-fill-color: #AAA;\n",
              "      --disabled-bg-color: #DDD;\n",
              "  }\n",
              "\n",
              "  [theme=dark] .colab-df-quickchart {\n",
              "      --bg-color: #3B4455;\n",
              "      --fill-color: #D2E3FC;\n",
              "      --hover-bg-color: #434B5C;\n",
              "      --hover-fill-color: #FFFFFF;\n",
              "      --disabled-bg-color: #3B4455;\n",
              "      --disabled-fill-color: #666;\n",
              "  }\n",
              "\n",
              "  .colab-df-quickchart {\n",
              "    background-color: var(--bg-color);\n",
              "    border: none;\n",
              "    border-radius: 50%;\n",
              "    cursor: pointer;\n",
              "    display: none;\n",
              "    fill: var(--fill-color);\n",
              "    height: 32px;\n",
              "    padding: 0;\n",
              "    width: 32px;\n",
              "  }\n",
              "\n",
              "  .colab-df-quickchart:hover {\n",
              "    background-color: var(--hover-bg-color);\n",
              "    box-shadow: 0 1px 2px rgba(60, 64, 67, 0.3), 0 1px 3px 1px rgba(60, 64, 67, 0.15);\n",
              "    fill: var(--button-hover-fill-color);\n",
              "  }\n",
              "\n",
              "  .colab-df-quickchart-complete:disabled,\n",
              "  .colab-df-quickchart-complete:disabled:hover {\n",
              "    background-color: var(--disabled-bg-color);\n",
              "    fill: var(--disabled-fill-color);\n",
              "    box-shadow: none;\n",
              "  }\n",
              "\n",
              "  .colab-df-spinner {\n",
              "    border: 2px solid var(--fill-color);\n",
              "    border-color: transparent;\n",
              "    border-bottom-color: var(--fill-color);\n",
              "    animation:\n",
              "      spin 1s steps(1) infinite;\n",
              "  }\n",
              "\n",
              "  @keyframes spin {\n",
              "    0% {\n",
              "      border-color: transparent;\n",
              "      border-bottom-color: var(--fill-color);\n",
              "      border-left-color: var(--fill-color);\n",
              "    }\n",
              "    20% {\n",
              "      border-color: transparent;\n",
              "      border-left-color: var(--fill-color);\n",
              "      border-top-color: var(--fill-color);\n",
              "    }\n",
              "    30% {\n",
              "      border-color: transparent;\n",
              "      border-left-color: var(--fill-color);\n",
              "      border-top-color: var(--fill-color);\n",
              "      border-right-color: var(--fill-color);\n",
              "    }\n",
              "    40% {\n",
              "      border-color: transparent;\n",
              "      border-right-color: var(--fill-color);\n",
              "      border-top-color: var(--fill-color);\n",
              "    }\n",
              "    60% {\n",
              "      border-color: transparent;\n",
              "      border-right-color: var(--fill-color);\n",
              "    }\n",
              "    80% {\n",
              "      border-color: transparent;\n",
              "      border-right-color: var(--fill-color);\n",
              "      border-bottom-color: var(--fill-color);\n",
              "    }\n",
              "    90% {\n",
              "      border-color: transparent;\n",
              "      border-bottom-color: var(--fill-color);\n",
              "    }\n",
              "  }\n",
              "</style>\n",
              "\n",
              "  <script>\n",
              "    async function quickchart(key) {\n",
              "      const quickchartButtonEl =\n",
              "        document.querySelector('#' + key + ' button');\n",
              "      quickchartButtonEl.disabled = true;  // To prevent multiple clicks.\n",
              "      quickchartButtonEl.classList.add('colab-df-spinner');\n",
              "      try {\n",
              "        const charts = await google.colab.kernel.invokeFunction(\n",
              "            'suggestCharts', [key], {});\n",
              "      } catch (error) {\n",
              "        console.error('Error during call to suggestCharts:', error);\n",
              "      }\n",
              "      quickchartButtonEl.classList.remove('colab-df-spinner');\n",
              "      quickchartButtonEl.classList.add('colab-df-quickchart-complete');\n",
              "    }\n",
              "    (() => {\n",
              "      let quickchartButtonEl =\n",
              "        document.querySelector('#df-8297f5a6-66d9-4508-aca7-0485e45f38ac button');\n",
              "      quickchartButtonEl.style.display =\n",
              "        google.colab.kernel.accessAllowed ? 'block' : 'none';\n",
              "    })();\n",
              "  </script>\n",
              "</div>\n",
              "    </div>\n",
              "  </div>\n"
            ],
            "text/plain": [
              "                               reviewId                userName  \\\n",
              "0  83304c81-5db7-45c9-88c7-47c215458614      Provat Kumar Subir   \n",
              "1  d4e5113e-595b-446c-8055-ee42ac4245cc             afzal shuvo   \n",
              "2  9e8e8114-ad86-458b-be32-7c45c5392c21            Yousuf Ahmed   \n",
              "3  4f8c425b-abee-4498-983b-cf6e5886525e            Israth Jahan   \n",
              "4  2731d2fd-91da-463c-b530-303de97094b4  406_Tanvir_Tareq_piash   \n",
              "\n",
              "                                           userImage  \\\n",
              "0  https://play-lh.googleusercontent.com/a/ACg8oc...   \n",
              "1  https://play-lh.googleusercontent.com/a/ACg8oc...   \n",
              "2  https://play-lh.googleusercontent.com/a-/ALV-U...   \n",
              "3  https://play-lh.googleusercontent.com/a-/ALV-U...   \n",
              "4  https://play-lh.googleusercontent.com/a-/ALV-U...   \n",
              "\n",
              "                                             content  score  thumbsUpCount  \\\n",
              "0                                           baja app      1              0   \n",
              "1                                           Good app      5              0   \n",
              "2                                               Good      5              0   \n",
              "3  Nowadays it’s became a total disaster. The rid...      1              0   \n",
              "4                                              Great      5              0   \n",
              "\n",
              "  reviewCreatedVersion                  at  \\\n",
              "0               10.0.0 2023-11-05 06:05:42   \n",
              "1               10.0.0 2023-11-04 20:06:15   \n",
              "2               10.0.0 2023-11-04 17:58:02   \n",
              "3               10.0.0 2023-11-04 15:45:09   \n",
              "4               10.0.0 2023-11-04 13:04:29   \n",
              "\n",
              "                                        replyContent            repliedAt  \\\n",
              "0                                               None                  NaT   \n",
              "1  Hello afzal shuvo, we are pleased to know that...  2023-11-05 03:33:12   \n",
              "2  Hello Yousuf Ahmed, we are pleased to know tha...  2023-11-05 03:32:08   \n",
              "3  Hello Israth Jahan, we are sorry for any diffi...  2023-11-05 03:31:28   \n",
              "4  Hello Tanvir_Tareq_piash, we are pleased to kn...  2023-11-04 13:43:03   \n",
              "\n",
              "  appVersion appName  \n",
              "0     10.0.0  Pathao  \n",
              "1     10.0.0  Pathao  \n",
              "2     10.0.0  Pathao  \n",
              "3     10.0.0  Pathao  \n",
              "4     10.0.0  Pathao  "
            ]
          },
          "execution_count": 262,
          "metadata": {},
          "output_type": "execute_result"
        }
      ],
      "source": [
        "dataset.head()"
      ]
    },
    {
      "cell_type": "code",
      "execution_count": null,
      "metadata": {
        "id": "HmMwHXQQjGbJ"
      },
      "outputs": [],
      "source": [
        "foodpanda_df['appName']=\"Foodpanda\""
      ]
    },
    {
      "cell_type": "code",
      "execution_count": null,
      "metadata": {
        "id": "DdIZcb7St_Y7"
      },
      "outputs": [],
      "source": [
        "daraz_df['appName']=\"Daraz\""
      ]
    },
    {
      "cell_type": "markdown",
      "metadata": {
        "id": "wgZg-TBUuo9C"
      },
      "source": [
        "## full dataset"
      ]
    },
    {
      "cell_type": "code",
      "execution_count": null,
      "metadata": {
        "colab": {
          "base_uri": "https://localhost:8080/"
        },
        "id": "9u9HepAwEp9K",
        "outputId": "24eb8ef5-e4de-4ddc-b24c-ba7c8633e6f4"
      },
      "outputs": [
        {
          "data": {
            "text/plain": [
              "Foodpanda                1112174\n",
              "Daraz                    1021852\n",
              "bKash                     430777\n",
              "MyGP                      237668\n",
              "My Robi                   144597\n",
              "inDrive                   140845\n",
              "Nagad                     109367\n",
              "Ridmik Keyboard            97121\n",
              "My Airtel                  87461\n",
              "Toffee                     67690\n",
              "NID Wallet                 62192\n",
              "MyBL                       54763\n",
              "Skitto                     52619\n",
              "10 Minute School           44417\n",
              "Bioscope Live              30708\n",
              "Pathao                     26434\n",
              "Bikroy                     24725\n",
              "Rocket                     24316\n",
              "Upay                       16892\n",
              "DIMS                       15587\n",
              "Tallykhata                 14134\n",
              "Prothom Alo                 8932\n",
              "Citytouch                   8788\n",
              "Bdjobs                      8282\n",
              "Swap                        7876\n",
              "Chorki                      7210\n",
              "Shohoz                      6754\n",
              "Bangladeshi Matrimony       5514\n",
              "Obhai                       5473\n",
              "Surokkha                    5331\n",
              "Shikho                      5180\n",
              "Rokomari                    4652\n",
              "Chaldal                     3907\n",
              "EBL SkyBanking              3904\n",
              "Shajgoj                     3785\n",
              "Arogga                      2271\n",
              "Sheba.xyz                   1519\n",
              "Fabrilife                   1177\n",
              "Aarong                       978\n",
              "Uttoradhikary                697\n",
              "Bangladesh Pratidin          634\n",
              "Vumi Unnayain Kor            556\n",
              "GoZayaan                     381\n",
              "Bproperty                    354\n",
              "Bangladesh Directory         303\n",
              "StarTech                     262\n",
              "The Mall                     210\n",
              "BanglaNews24                 175\n",
              "Shikkhok Shohayika           137\n",
              "Biman                         56\n",
              "Name: appName, dtype: int64"
            ]
          },
          "execution_count": 267,
          "metadata": {},
          "output_type": "execute_result"
        }
      ],
      "source": [
        "dataset['appName'].value_counts()"
      ]
    },
    {
      "cell_type": "code",
      "execution_count": null,
      "metadata": {
        "colab": {
          "base_uri": "https://localhost:8080/"
        },
        "id": "dnEUciBR4NR2",
        "outputId": "cfbb8607-34e1-4e0a-e565-6b7137229e2f"
      },
      "outputs": [
        {
          "data": {
            "text/plain": [
              "3911637"
            ]
          },
          "execution_count": 268,
          "metadata": {},
          "output_type": "execute_result"
        }
      ],
      "source": [
        "len(dataset)"
      ]
    },
    {
      "cell_type": "code",
      "execution_count": null,
      "metadata": {
        "colab": {
          "base_uri": "https://localhost:8080/",
          "height": 622
        },
        "id": "tOf5glA5-L_k",
        "outputId": "d803327f-af1a-4d52-d64b-183e85ecdeff"
      },
      "outputs": [
        {
          "data": {
            "image/png": "[encoded data removed]",
            "text/plain": [
              "<Figure size 640x480 with 1 Axes>"
            ]
          },
          "metadata": {},
          "output_type": "display_data"
        }
      ],
      "source": [
        "  # Set the size of the plot\n",
        "sns.countplot(data=dataset, x=\"appName\")\n",
        "\n",
        "# Customize the plot (optional)\n",
        "plt.title(\"App Distribution\")\n",
        "plt.xlabel(\"App Name\" )\n",
        "plt.ylabel(\"Count\")\n",
        "plt.xticks(rotation=90)\n",
        "plt.show()"
      ]
    },
    {
      "cell_type": "markdown",
      "metadata": {
        "id": "B5aYu3Siqkmp"
      },
      "source": [
        "### CSV data save"
      ]
    },
    {
      "cell_type": "code",
      "execution_count": null,
      "metadata": {
        "id": "CxN6K3UinjkJ"
      },
      "outputs": [],
      "source": [
        "dataset.to_csv('Dataset.csv',escapechar='\\\\', index=False)"
      ]
    },
    {
      "cell_type": "markdown",
      "metadata": {
        "id": "yCQlMJOqqniQ"
      },
      "source": [
        "### Translation"
      ]
    },
    {
      "cell_type": "code",
      "execution_count": null,
      "metadata": {
        "id": "laF_Cb3MoX_v"
      },
      "outputs": [],
      "source": [
        "!pip install googletrans==4.0.0-rc1"
      ]
    },
    {
      "cell_type": "code",
      "execution_count": null,
      "metadata": {
        "colab": {
          "base_uri": "https://localhost:8080/",
          "height": 36
        },
        "id": "zfDeo_qDpQ1F",
        "outputId": "e65130b4-527b-41ab-d696-fa49a16f53e8"
      },
      "outputs": [
        {
          "data": {
            "application/vnd.google.colaboratory.intrinsic+json": {
              "type": "string"
            },
            "text/plain": [
              "'এটা উবার থেকে কম ভাড়া, তবে সাভারে যেতে এখনো ইন্টারসিটি অর্থাৎ ভিন্ন জেলা বা শহর এর ভারা নিচ্ছে। অথচ সাভার ঢাকার অন্তর্ভুক্ত সিটি।'"
            ]
          },
          "execution_count": 20,
          "metadata": {},
          "output_type": "execute_result"
        }
      ],
      "source": [
        "bangla_word = df.at[1, 'content']\n",
        "bangla_word"
      ]
    },
    {
      "cell_type": "code",
      "execution_count": null,
      "metadata": {
        "id": "tYa1NL_ypzYU"
      },
      "outputs": [],
      "source": [
        "from googletrans import Translator\n",
        "translator = Translator()\n",
        "translation = translator.translate(bangla_word, src='bn', dest='en')"
      ]
    },
    {
      "cell_type": "code",
      "execution_count": null,
      "metadata": {
        "colab": {
          "base_uri": "https://localhost:8080/",
          "height": 36
        },
        "id": "aWfwoL5iqLQr",
        "outputId": "c2a3dc6c-06dc-4a9c-d2fa-4995704048a2"
      },
      "outputs": [
        {
          "data": {
            "application/vnd.google.colaboratory.intrinsic+json": {
              "type": "string"
            },
            "text/plain": [
              "'It is a lower rent than Uber, but it is still taking intercites, such as different districts or cities to go to Savar.But Savar is in Dhaka.'"
            ]
          },
          "execution_count": 24,
          "metadata": {},
          "output_type": "execute_result"
        }
      ],
      "source": [
        "translation.text"
      ]
    },
    {
      "cell_type": "code",
      "execution_count": null,
      "metadata": {
        "colab": {
          "base_uri": "https://localhost:8080/",
          "height": 566
        },
        "id": "IJnw15a108kK",
        "outputId": "926c699a-0f76-49bb-8b06-25b75a26cbd8"
      },
      "outputs": [
        {
          "data": {
            "image/png": "[encoded data removed]",
            "text/plain": [
              "<Figure size 1000x600 with 1 Axes>"
            ]
          },
          "metadata": {},
          "output_type": "display_data"
        }
      ],
      "source": [
        "# Create a countplot\n",
        "sns.set(style=\"whitegrid\")\n",
        "plt.figure(figsize=(10, 6))\n",
        "ax = sns.countplot(data=df, x='language', order=df.language.value_counts().index)\n",
        "\n",
        "# Annotate the count values above the bars\n",
        "for p in ax.patches:\n",
        "    ax.annotate(f'{p.get_height()}', (p.get_x() + p.get_width() / 2., p.get_height()), ha='center', va='bottom')\n",
        "\n",
        "plt.show()"
      ]
    }
  ],
  "metadata": {
    "colab": {
      "provenance": []
    },
    "kernelspec": {
      "display_name": "Python 3",
      "name": "python3"
    },
    "language_info": {
      "name": "python"
    }
  },
  "nbformat": 4,
  "nbformat_minor": 0
}